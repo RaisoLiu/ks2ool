{
 "cells": [
  {
   "cell_type": "markdown",
   "id": "46b25835-a1da-4832-afb1-3d2f0e1958cf",
   "metadata": {},
   "source": [
    "# Get Waveforms from KS2 result with phy without GUI"
   ]
  },
  {
   "cell_type": "markdown",
   "id": "896e14d1-e10b-40d2-a9d2-5cb3d6a524a7",
   "metadata": {},
   "source": [
    "# Import Library"
   ]
  },
  {
   "cell_type": "code",
   "execution_count": 4,
   "id": "4cb0fc6b-f83d-4dd2-9f34-0da04af1ba0e",
   "metadata": {
    "tags": []
   },
   "outputs": [],
   "source": [
    "import os\n",
    "from ks2ool import get_waveforms\n",
    "\n",
    "root = 'B3D41/'\n",
    "assert os.path.isdir(root), f\"No such folder. {root}\""
   ]
  },
  {
   "cell_type": "code",
   "execution_count": 9,
   "id": "886e1ea0-8956-422d-b235-26e661bf6f15",
   "metadata": {
    "tags": []
   },
   "outputs": [
    {
     "name": "stdout",
     "output_type": "stream",
     "text": [
      "amplitudes.npy\t\t   params.py\t\t  template_feature_ind.npy\n",
      "channel_map.npy\t\t   pc_feature_ind.npy\t  template_features.npy\n",
      "channel_positions.npy\t   pc_features.npy\t  templates_ind.npy\n",
      "cluster_Amplitude.tsv\t   raw.bin\t\t  templates.npy\n",
      "cluster_ContamPct.tsv\t   rez.mat\t\t  temp_wh.dat\n",
      "cluster_group.tsv\t   rezsmall.mat\t\t  waveforms.npy\n",
      "cluster_id_7_waveform.npy  similar_templates.npy  waveforms.pkl\n",
      "cluster_id_8_waveform.npy  spike_clusters.npy\t  whitening_mat_inv.npy\n",
      "cluster_KSLabel.tsv\t   spike_counts.npy\t  whitening_mat.npy\n",
      "command.m\t\t   spike_templates.npy\n",
      "main_kilosort.m\t\t   spike_times.npy\n"
     ]
    }
   ],
   "source": [
    "!ls {root}"
   ]
  },
  {
   "cell_type": "markdown",
   "id": "678b1db4-7464-432f-91a8-69871179bb86",
   "metadata": {},
   "source": [
    "# Run"
   ]
  },
  {
   "cell_type": "code",
   "execution_count": 5,
   "id": "41553cf8-a294-4be4-9981-aa1a6f950799",
   "metadata": {
    "tags": []
   },
   "outputs": [
    {
     "name": "stderr",
     "output_type": "stream",
     "text": [
      "100%|██████████| 2242/2242 [03:50<00:00,  9.74it/s]\n"
     ]
    }
   ],
   "source": [
    "waveforms = get_waveforms(root)"
   ]
  },
  {
   "cell_type": "code",
   "execution_count": 6,
   "id": "38034f0b-dad4-493a-9c2b-91c5522dd0e2",
   "metadata": {
    "tags": []
   },
   "outputs": [
    {
     "name": "stdout",
     "output_type": "stream",
     "text": [
      "2209 [0, 1, 2, 3, 4]\n",
      "(100, 82)\n"
     ]
    }
   ],
   "source": [
    "unit_id = list(waveforms.keys())\n",
    "print(len(unit_id), unit_id[:5])\n",
    "print(waveforms[unit_id[0]].shape)"
   ]
  },
  {
   "cell_type": "markdown",
   "id": "d04b9204-8760-4715-b1b1-64e544e7031f",
   "metadata": {},
   "source": [
    "# Save"
   ]
  },
  {
   "cell_type": "code",
   "execution_count": 8,
   "id": "7bb337b9-2288-4d22-b4e2-ad971d2a2039",
   "metadata": {
    "tags": []
   },
   "outputs": [
    {
     "data": {
      "text/plain": [
       "['waveforms.pkl']"
      ]
     },
     "execution_count": 8,
     "metadata": {},
     "output_type": "execute_result"
    }
   ],
   "source": [
    "# Save waveforms\n",
    "import joblib\n",
    "\n",
    "joblib.dump(waveforms, 'waveforms.pkl')"
   ]
  },
  {
   "cell_type": "markdown",
   "id": "a59a0e30-5ba7-4c25-8c23-3502be218807",
   "metadata": {},
   "source": [
    "# Check"
   ]
  },
  {
   "cell_type": "code",
   "execution_count": 12,
   "id": "b37f5102-2fb9-4ae1-8af4-645df1bb03e8",
   "metadata": {
    "tags": []
   },
   "outputs": [
    {
     "name": "stdout",
     "output_type": "stream",
     "text": [
      "126M\twaveforms.pkl\n"
     ]
    }
   ],
   "source": [
    "!du -h waveforms.pkl"
   ]
  }
 ],
 "metadata": {
  "kernelspec": {
   "display_name": "Python 3 (ipykernel)",
   "language": "python",
   "name": "python3"
  },
  "language_info": {
   "codemirror_mode": {
    "name": "ipython",
    "version": 3
   },
   "file_extension": ".py",
   "mimetype": "text/x-python",
   "name": "python",
   "nbconvert_exporter": "python",
   "pygments_lexer": "ipython3",
   "version": "3.10.9"
  }
 },
 "nbformat": 4,
 "nbformat_minor": 5
}
